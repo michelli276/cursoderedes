{
  "nbformat": 4,
  "nbformat_minor": 0,
  "metadata": {
    "colab": {
      "provenance": [],
      "toc_visible": true
    },
    "kernelspec": {
      "name": "python3",
      "display_name": "Python 3"
    },
    "language_info": {
      "name": "python"
    }
  },
  "cells": [
    {
      "cell_type": "markdown",
      "source": [
        "Estrutura condicional simples"
      ],
      "metadata": {
        "id": "iKqsK6WBwxeG"
      }
    },
    {
      "cell_type": "code",
      "execution_count": null,
      "metadata": {
        "id": "bwGxyvfUKDBQ",
        "colab": {
          "base_uri": "https://localhost:8080/"
        },
        "outputId": "a24cb87a-0a4d-40ee-ec84-4db323ec98e6"
      },
      "outputs": [
        {
          "output_type": "stream",
          "name": "stdout",
          "text": [
            "Informe um número natural: 8\n",
            "O número informado é par.\n"
          ]
        }
      ],
      "source": [
        "valor = int(input(\"Informe um número natural: \"))\n",
        "\n",
        "if (valor % 2 == 0):\n",
        "  print(\"O número informado é par.\")"
      ]
    },
    {
      "cell_type": "markdown",
      "source": [
        "Estrutura condicional composta"
      ],
      "metadata": {
        "id": "VRuvgbX-w5m_"
      }
    },
    {
      "cell_type": "code",
      "source": [
        "valor = int(input(\"Informe um número: \"))\n",
        "\n",
        "if (valor > 0):\n",
        "  print(\"O número {} é positivo.\".format(valor))\n",
        "elif (valor < 0):\n",
        "  print(\"O número {} é negativo.\".format(valor))\n",
        "else:\n",
        "  print(\"O número {} não é positivo e nem negativo.\".format(valor))"
      ],
      "metadata": {
        "id": "KqIu7gOhZ8jV",
        "colab": {
          "base_uri": "https://localhost:8080/"
        },
        "outputId": "d717c000-c4f4-4930-9208-f64cf17e7af9"
      },
      "execution_count": null,
      "outputs": [
        {
          "output_type": "stream",
          "name": "stdout",
          "text": [
            "Informe um número: 7\n",
            "O número 7 é positivo.\n"
          ]
        }
      ]
    },
    {
      "cell_type": "markdown",
      "source": [
        "Estrutura condicional aninhada"
      ],
      "metadata": {
        "id": "rzkI9bPYw9RC"
      }
    },
    {
      "cell_type": "code",
      "source": [
        "altura = float(input(\"Informe a sua altura: \"))\n",
        "peso = float(input(\"Informe o seu peso: \"))\n",
        "\n",
        "imc = peso / (altura ** 2)\n",
        "print(\"O IMC é {:.2f}\".format(imc))\n",
        "\n",
        "if (imc < 17):\n",
        "  print(\"Muito abaixo do peso.\")\n",
        "else:\n",
        "  if (imc > 17) and (imc < 18.5):\n",
        "    print(\"Abaixo do peso.\")\n",
        "  else:\n",
        "    if (imc > 18.5) and (imc < 25):\n",
        "      print(\"Peso ideal.\")\n",
        "    else:\n",
        "      if (imc > 25) and (imc < 30):\n",
        "        print(\"Acima do peso.\")\n",
        "      else:\n",
        "        print(\"Obesidade.\")\n",
        "  "
      ],
      "metadata": {
        "id": "7-VHhnISa7aI",
        "colab": {
          "base_uri": "https://localhost:8080/",
          "height": 252
        },
        "outputId": "6bb274b5-712f-4b23-a218-15496b148ffd"
      },
      "execution_count": null,
      "outputs": [
        {
          "name": "stdout",
          "output_type": "stream",
          "text": [
            "Informe a sua altura: 1,79\n"
          ]
        },
        {
          "output_type": "error",
          "ename": "ValueError",
          "evalue": "ignored",
          "traceback": [
            "\u001b[0;31m---------------------------------------------------------------------------\u001b[0m",
            "\u001b[0;31mValueError\u001b[0m                                Traceback (most recent call last)",
            "\u001b[0;32m<ipython-input-4-9bfcc134325b>\u001b[0m in \u001b[0;36m<cell line: 1>\u001b[0;34m()\u001b[0m\n\u001b[0;32m----> 1\u001b[0;31m \u001b[0maltura\u001b[0m \u001b[0;34m=\u001b[0m \u001b[0mfloat\u001b[0m\u001b[0;34m(\u001b[0m\u001b[0minput\u001b[0m\u001b[0;34m(\u001b[0m\u001b[0;34m\"Informe a sua altura: \"\u001b[0m\u001b[0;34m)\u001b[0m\u001b[0;34m)\u001b[0m\u001b[0;34m\u001b[0m\u001b[0;34m\u001b[0m\u001b[0m\n\u001b[0m\u001b[1;32m      2\u001b[0m \u001b[0mpeso\u001b[0m \u001b[0;34m=\u001b[0m \u001b[0mfloat\u001b[0m\u001b[0;34m(\u001b[0m\u001b[0minput\u001b[0m\u001b[0;34m(\u001b[0m\u001b[0;34m\"Informe o seu peso: \"\u001b[0m\u001b[0;34m)\u001b[0m\u001b[0;34m)\u001b[0m\u001b[0;34m\u001b[0m\u001b[0;34m\u001b[0m\u001b[0m\n\u001b[1;32m      3\u001b[0m \u001b[0;34m\u001b[0m\u001b[0m\n\u001b[1;32m      4\u001b[0m \u001b[0mimc\u001b[0m \u001b[0;34m=\u001b[0m \u001b[0mpeso\u001b[0m \u001b[0;34m/\u001b[0m \u001b[0;34m(\u001b[0m\u001b[0maltura\u001b[0m \u001b[0;34m**\u001b[0m \u001b[0;36m2\u001b[0m\u001b[0;34m)\u001b[0m\u001b[0;34m\u001b[0m\u001b[0;34m\u001b[0m\u001b[0m\n\u001b[1;32m      5\u001b[0m \u001b[0mprint\u001b[0m\u001b[0;34m(\u001b[0m\u001b[0;34m\"O IMC é {:.2f}\"\u001b[0m\u001b[0;34m.\u001b[0m\u001b[0mformat\u001b[0m\u001b[0;34m(\u001b[0m\u001b[0mimc\u001b[0m\u001b[0;34m)\u001b[0m\u001b[0;34m)\u001b[0m\u001b[0;34m\u001b[0m\u001b[0;34m\u001b[0m\u001b[0m\n",
            "\u001b[0;31mValueError\u001b[0m: could not convert string to float: '1,79'"
          ]
        }
      ]
    }
  ]
}